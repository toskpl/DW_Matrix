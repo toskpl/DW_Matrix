{
  "nbformat": 4,
  "nbformat_minor": 0,
  "metadata": {
    "colab": {
      "name": "day4_matrix.ipynb",
      "provenance": [],
      "collapsed_sections": [],
      "toc_visible": true,
      "mount_file_id": "12Sup62s7y4Ty_9rlK-lETbbswpeOBJ-R",
      "authorship_tag": "ABX9TyPYBI5rpqtl35x1Skjyk8uQ",
      "include_colab_link": true
    },
    "kernelspec": {
      "name": "python3",
      "display_name": "Python 3"
    }
  },
  "cells": [
    {
      "cell_type": "markdown",
      "metadata": {
        "id": "view-in-github",
        "colab_type": "text"
      },
      "source": [
        "<a href=\"https://colab.research.google.com/github/toskpl/DW_Matrix/blob/master/day4_matrix.ipynb\" target=\"_parent\"><img src=\"https://colab.research.google.com/assets/colab-badge.svg\" alt=\"Open In Colab\"/></a>"
      ]
    },
    {
      "cell_type": "code",
      "metadata": {
        "id": "YRsUP4WAd01m",
        "colab_type": "code",
        "colab": {}
      },
      "source": [
        "#potrzebne biblioteki\n",
        "import pandas as pd\n",
        "import numpy as np\n",
        "\n",
        "from sklearn.tree import DecisionTreeRegressor\n",
        "from sklearn.metrics import mean_absolute_error\n",
        "from sklearn.model_selection import cross_val_score"
      ],
      "execution_count": 0,
      "outputs": []
    },
    {
      "cell_type": "code",
      "metadata": {
        "id": "zJTp5rjxerVu",
        "colab_type": "code",
        "colab": {
          "base_uri": "https://localhost:8080/",
          "height": 34
        },
        "outputId": "3fe48fb3-d573-4224-e9b4-853641209501"
      },
      "source": [
        "cd \"drive/My Drive/Colab Notebooks/DW_Matrix/data\""
      ],
      "execution_count": 2,
      "outputs": [
        {
          "output_type": "stream",
          "text": [
            "/content/drive/My Drive/Colab Notebooks/DW_Matrix/data\n"
          ],
          "name": "stdout"
        }
      ]
    },
    {
      "cell_type": "code",
      "metadata": {
        "id": "JtSoOLo7fbtb",
        "colab_type": "code",
        "colab": {
          "base_uri": "https://localhost:8080/",
          "height": 34
        },
        "outputId": "0c5bd793-984b-4aad-ac0d-a7fc9db8b8db"
      },
      "source": [
        "ls"
      ],
      "execution_count": 3,
      "outputs": [
        {
          "output_type": "stream",
          "text": [
            "men_shoes.csv\n"
          ],
          "name": "stdout"
        }
      ]
    },
    {
      "cell_type": "code",
      "metadata": {
        "id": "L4caVOENfiRP",
        "colab_type": "code",
        "colab": {
          "base_uri": "https://localhost:8080/",
          "height": 34
        },
        "outputId": "cbb19410-5ad9-4747-82da-5e950d16e826"
      },
      "source": [
        "#wczytanie danych z CSV\n",
        "df = pd.read_csv('men_shoes.csv',low_memory=False)\n",
        "df.shape"
      ],
      "execution_count": 4,
      "outputs": [
        {
          "output_type": "execute_result",
          "data": {
            "text/plain": [
              "(18280, 48)"
            ]
          },
          "metadata": {
            "tags": []
          },
          "execution_count": 4
        }
      ]
    },
    {
      "cell_type": "code",
      "metadata": {
        "id": "ubH88H-Zf3x6",
        "colab_type": "code",
        "colab": {
          "base_uri": "https://localhost:8080/",
          "height": 221
        },
        "outputId": "78671979-82af-4ed2-be2c-c456e363accb"
      },
      "source": [
        "df.columns"
      ],
      "execution_count": 5,
      "outputs": [
        {
          "output_type": "execute_result",
          "data": {
            "text/plain": [
              "Index(['id', 'asins', 'brand', 'categories', 'colors', 'count', 'dateadded',\n",
              "       'dateupdated', 'descriptions', 'dimension', 'ean', 'features',\n",
              "       'flavors', 'imageurls', 'isbn', 'keys', 'manufacturer',\n",
              "       'manufacturernumber', 'merchants', 'name', 'prices_amountmin',\n",
              "       'prices_amountmax', 'prices_availability', 'prices_color',\n",
              "       'prices_condition', 'prices_count', 'prices_currency',\n",
              "       'prices_dateadded', 'prices_dateseen', 'prices_flavor', 'prices_issale',\n",
              "       'prices_merchant', 'prices_offer', 'prices_returnpolicy',\n",
              "       'prices_shipping', 'prices_size', 'prices_source', 'prices_sourceurls',\n",
              "       'prices_warranty', 'quantities', 'reviews', 'sizes', 'skus',\n",
              "       'sourceurls', 'upc', 'vin', 'websiteids', 'weight'],\n",
              "      dtype='object')"
            ]
          },
          "metadata": {
            "tags": []
          },
          "execution_count": 5
        }
      ]
    },
    {
      "cell_type": "code",
      "metadata": {
        "id": "Rzs0qpiwf7jL",
        "colab_type": "code",
        "colab": {
          "base_uri": "https://localhost:8080/",
          "height": 34
        },
        "outputId": "53921330-d30a-4941-e563-1676a56a45d1"
      },
      "source": [
        "#srednia cena buta\n",
        "mean_priece = np.mean(df['prices_amountmin'])\n",
        "mean_priece"
      ],
      "execution_count": 6,
      "outputs": [
        {
          "output_type": "execute_result",
          "data": {
            "text/plain": [
              "93.53952188183217"
            ]
          },
          "metadata": {
            "tags": []
          },
          "execution_count": 6
        }
      ]
    },
    {
      "cell_type": "code",
      "metadata": {
        "id": "NA9sBKQwgU6D",
        "colab_type": "code",
        "colab": {}
      },
      "source": [
        "#wartosc prawdziwa\n",
        "y_true = df['prices_amountmin']\n",
        "\n",
        "#wartosc przewidywana (średnia cena * cały rozmair zbioru)\n",
        "y_pred = y_true.shape[0] * [mean_priece]"
      ],
      "execution_count": 0,
      "outputs": []
    },
    {
      "cell_type": "code",
      "metadata": {
        "id": "Bn4lX8rvhfyw",
        "colab_type": "code",
        "colab": {
          "base_uri": "https://localhost:8080/",
          "height": 34
        },
        "outputId": "c4173998-2214-4fdc-db3e-c9f6de83e9ad"
      },
      "source": [
        "#metryka sukcesu\n",
        "mean_absolute_error (y_true,y_pred)"
      ],
      "execution_count": 8,
      "outputs": [
        {
          "output_type": "execute_result",
          "data": {
            "text/plain": [
              "63.968341227870624"
            ]
          },
          "metadata": {
            "tags": []
          },
          "execution_count": 8
        }
      ]
    },
    {
      "cell_type": "code",
      "metadata": {
        "id": "esx85wohh2tJ",
        "colab_type": "code",
        "colab": {
          "base_uri": "https://localhost:8080/",
          "height": 282
        },
        "outputId": "ee5056b2-93e6-414f-edab-38c963bc0a1e"
      },
      "source": [
        "#histogram dlugi ogon \n",
        "df['prices_amountmin'].hist(bins= 100)"
      ],
      "execution_count": 9,
      "outputs": [
        {
          "output_type": "execute_result",
          "data": {
            "text/plain": [
              "<matplotlib.axes._subplots.AxesSubplot at 0x7f7d89b020f0>"
            ]
          },
          "metadata": {
            "tags": []
          },
          "execution_count": 9
        },
        {
          "output_type": "display_data",
          "data": {
            "image/png": "[encoded data removed]",
            "text/plain": [
              "<Figure size 432x288 with 1 Axes>"
            ]
          },
          "metadata": {
            "tags": []
          }
        }
      ]
    },
    {
      "cell_type": "code",
      "metadata": {
        "id": "6ysRcRUdh9tG",
        "colab_type": "code",
        "colab": {
          "base_uri": "https://localhost:8080/",
          "height": 282
        },
        "outputId": "d11fc837-673f-4de5-c6b2-12a31962c10c"
      },
      "source": [
        "#log aby pozbyc sie ogona :-)\n",
        "np.log1p (df['prices_amountmin']).hist(bins=100)"
      ],
      "execution_count": 10,
      "outputs": [
        {
          "output_type": "execute_result",
          "data": {
            "text/plain": [
              "<matplotlib.axes._subplots.AxesSubplot at 0x7f7d8947cda0>"
            ]
          },
          "metadata": {
            "tags": []
          },
          "execution_count": 10
        },
        {
          "output_type": "display_data",
          "data": {
            "image/png": "[encoded data removed]",
            "text/plain": [
              "<Figure size 432x288 with 1 Axes>"
            ]
          },
          "metadata": {
            "tags": []
          }
        }
      ]
    },
    {
      "cell_type": "code",
      "metadata": {
        "id": "bw-t7nLFiuJG",
        "colab_type": "code",
        "colab": {
          "base_uri": "https://localhost:8080/",
          "height": 34
        },
        "outputId": "2bdaec4f-c602-46e4-ceb2-b108f2588736"
      },
      "source": [
        "#mediana\n",
        "median_priece = np.median(df['prices_amountmin'])\n",
        "median_priece\n",
        "\n",
        "#wartosc prawdziwa\n",
        "y_true = df['prices_amountmin']\n",
        "\n",
        "#wartosc przewidywana (średnia cena * cały rozmair zbioru)\n",
        "y_pred = y_true.shape[0] * [median_priece]\n",
        "\n",
        "mean_absolute_error (y_true,y_pred)"
      ],
      "execution_count": 11,
      "outputs": [
        {
          "output_type": "execute_result",
          "data": {
            "text/plain": [
              "58.01120240700219"
            ]
          },
          "metadata": {
            "tags": []
          },
          "execution_count": 11
        }
      ]
    },
    {
      "cell_type": "code",
      "metadata": {
        "id": "G2Mi5WSdkTWU",
        "colab_type": "code",
        "colab": {
          "base_uri": "https://localhost:8080/",
          "height": 34
        },
        "outputId": "cd8f6581-249a-49e8-8670-84538e42939e"
      },
      "source": [
        "#logarytm\n",
        "np.log1p(y_true)\n",
        "\n",
        "#srednia z log\n",
        "np.mean(np.log1p(y_true))"
      ],
      "execution_count": 12,
      "outputs": [
        {
          "output_type": "execute_result",
          "data": {
            "text/plain": [
              "4.157759197235119"
            ]
          },
          "metadata": {
            "tags": []
          },
          "execution_count": 12
        }
      ]
    },
    {
      "cell_type": "code",
      "metadata": {
        "id": "eRNmm0kskfLW",
        "colab_type": "code",
        "colab": {
          "base_uri": "https://localhost:8080/",
          "height": 34
        },
        "outputId": "5b88b779-b4e1-41c0-df81-a10fe74ec2b6"
      },
      "source": [
        "#odwrocenie log \n",
        "np.expm1(np.mean(np.log1p(y_true)))"
      ],
      "execution_count": 13,
      "outputs": [
        {
          "output_type": "execute_result",
          "data": {
            "text/plain": [
              "62.92811169273113"
            ]
          },
          "metadata": {
            "tags": []
          },
          "execution_count": 13
        }
      ]
    },
    {
      "cell_type": "code",
      "metadata": {
        "id": "oLkeNxMzk29q",
        "colab_type": "code",
        "colab": {
          "base_uri": "https://localhost:8080/",
          "height": 34
        },
        "outputId": "c04264e3-ddf0-454c-ff5a-1d7685073edd"
      },
      "source": [
        "#metryka sukcesu dla price_log_mean\n",
        "y_true = df['prices_amountmin']\n",
        "price_log_mean = np.expm1(np.mean(np.log1p(y_true)))\n",
        "\n",
        "y_pred = y_true.shape[0] * [price_log_mean]\n",
        "\n",
        "mean_absolute_error (y_true,y_pred)"
      ],
      "execution_count": 14,
      "outputs": [
        {
          "output_type": "execute_result",
          "data": {
            "text/plain": [
              "58.03539547661041"
            ]
          },
          "metadata": {
            "tags": []
          },
          "execution_count": 14
        }
      ]
    },
    {
      "cell_type": "code",
      "metadata": {
        "id": "YHjqJQLQlQv_",
        "colab_type": "code",
        "colab": {
          "base_uri": "https://localhost:8080/",
          "height": 221
        },
        "outputId": "36753798-9d6c-428d-a9e8-c0cab4fe0fa8"
      },
      "source": [
        "df.brand.value_counts()"
      ],
      "execution_count": 15,
      "outputs": [
        {
          "output_type": "execute_result",
          "data": {
            "text/plain": [
              "Nike               1709\n",
              "PUMA                574\n",
              "Ralph Lauren        524\n",
              "New Balance         361\n",
              "VANS                356\n",
              "                   ... \n",
              "Native Eyewear        1\n",
              "Sojourns End          1\n",
              "PIKOLINOS             1\n",
              "ChalkTalkSPORTS       1\n",
              "Avia Peter            1\n",
              "Name: brand, Length: 1856, dtype: int64"
            ]
          },
          "metadata": {
            "tags": []
          },
          "execution_count": 15
        }
      ]
    },
    {
      "cell_type": "code",
      "metadata": {
        "id": "AJGBzxYplqNG",
        "colab_type": "code",
        "colab": {
          "base_uri": "https://localhost:8080/",
          "height": 221
        },
        "outputId": "634f4302-349c-4eff-f0b7-e629e0672bc1"
      },
      "source": [
        "df['brand_cat'] = df['brand'].factorize()[0]\n",
        "df['brand_cat']"
      ],
      "execution_count": 16,
      "outputs": [
        {
          "output_type": "execute_result",
          "data": {
            "text/plain": [
              "0           0\n",
              "1           0\n",
              "2           1\n",
              "3           1\n",
              "4           1\n",
              "         ... \n",
              "18275    1855\n",
              "18276     307\n",
              "18277     411\n",
              "18278     411\n",
              "18279     411\n",
              "Name: brand_cat, Length: 18280, dtype: int64"
            ]
          },
          "metadata": {
            "tags": []
          },
          "execution_count": 16
        }
      ]
    },
    {
      "cell_type": "code",
      "metadata": {
        "id": "qZv-JcsGmPrN",
        "colab_type": "code",
        "colab": {
          "base_uri": "https://localhost:8080/",
          "height": 34
        },
        "outputId": "b38f74aa-01d5-46cf-8210-322e11930d00"
      },
      "source": [
        "#model DecisionTreeRegressor\n",
        "feats = ['brand_cat']\n",
        "X = df[feats].values\n",
        "y = df['prices_amountmin'].values\n",
        "\n",
        "model = DecisionTreeRegressor(max_depth=5)\n",
        "\n",
        "scores = cross_val_score (model,X,y,scoring= 'neg_mean_absolute_error')\n",
        "\n",
        "np.median(scores), np.std(scores)"
      ],
      "execution_count": 20,
      "outputs": [
        {
          "output_type": "execute_result",
          "data": {
            "text/plain": [
              "(-57.899475222055784, 4.223555478221712)"
            ]
          },
          "metadata": {
            "tags": []
          },
          "execution_count": 20
        }
      ]
    },
    {
      "cell_type": "code",
      "metadata": {
        "id": "vmXWs1hsui9a",
        "colab_type": "code",
        "colab": {}
      },
      "source": [
        "#funkcja pomocnicza\n",
        "def run_model (feats):\n",
        "  X = df[feats].values\n",
        "  y = df['prices_amountmin'].values\n",
        "\n",
        "  model = DecisionTreeRegressor(max_depth=5)\n",
        "\n",
        "  scores = cross_val_score (model,X,y,scoring= 'neg_mean_absolute_error')\n",
        "\n",
        "  return np.median(scores), np.std(scores)"
      ],
      "execution_count": 0,
      "outputs": []
    },
    {
      "cell_type": "code",
      "metadata": {
        "id": "WxLeyODFu2Jf",
        "colab_type": "code",
        "colab": {
          "base_uri": "https://localhost:8080/",
          "height": 34
        },
        "outputId": "9bf723a3-e560-47d5-ec0f-6cfa08ecb871"
      },
      "source": [
        "run_model(['brand_cat'])"
      ],
      "execution_count": 22,
      "outputs": [
        {
          "output_type": "execute_result",
          "data": {
            "text/plain": [
              "(-57.899475222055784, 4.223555478221712)"
            ]
          },
          "metadata": {
            "tags": []
          },
          "execution_count": 22
        }
      ]
    },
    {
      "cell_type": "code",
      "metadata": {
        "id": "helE3fc1u9_P",
        "colab_type": "code",
        "colab": {}
      },
      "source": [
        "#dodatkowe cechy\n",
        "df['colors_cat'] = df['colors'].factorize()[0]\n",
        "\n",
        "df['categories_cat'] = df['categories'].factorize()[0]"
      ],
      "execution_count": 0,
      "outputs": []
    },
    {
      "cell_type": "code",
      "metadata": {
        "id": "pczgBkvavPD_",
        "colab_type": "code",
        "colab": {
          "base_uri": "https://localhost:8080/",
          "height": 34
        },
        "outputId": "0b411438-196a-4857-d90c-76c82cb4c66c"
      },
      "source": [
        "#wynik z nowymi cechami\n",
        "run_model(['brand_cat', 'colors_cat' , 'categories_cat' ])"
      ],
      "execution_count": 28,
      "outputs": [
        {
          "output_type": "execute_result",
          "data": {
            "text/plain": [
              "(-61.658852451470786, 4.907679378018417)"
            ]
          },
          "metadata": {
            "tags": []
          },
          "execution_count": 28
        }
      ]
    }
  ]
}